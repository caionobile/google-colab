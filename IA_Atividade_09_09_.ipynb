{
  "nbformat": 4,
  "nbformat_minor": 0,
  "metadata": {
    "colab": {
      "name": "IA - Atividade 09/09 .ipynb",
      "provenance": [],
      "collapsed_sections": [],
      "authorship_tag": "ABX9TyOmMaoXwV3/99STZcfeOARr",
      "include_colab_link": true
    },
    "kernelspec": {
      "name": "python3",
      "display_name": "Python 3"
    },
    "language_info": {
      "name": "python"
    }
  },
  "cells": [
    {
      "cell_type": "markdown",
      "metadata": {
        "id": "view-in-github",
        "colab_type": "text"
      },
      "source": [
        "<a href=\"https://colab.research.google.com/github/caionobile/google-colab/blob/main/IA_Atividade_09_09_.ipynb\" target=\"_parent\"><img src=\"https://colab.research.google.com/assets/colab-badge.svg\" alt=\"Open In Colab\"/></a>"
      ]
    },
    {
      "cell_type": "markdown",
      "metadata": {
        "id": "58yMKnh4ZdQC"
      },
      "source": [
        "# ETAPA 1 (A até L)"
      ]
    },
    {
      "cell_type": "code",
      "metadata": {
        "id": "b9SCKCq2n5QN"
      },
      "source": [
        "#a) Faça um programa que recebe três números reais e exibe a multiplicação desses números.\n",
        "mult = lambda x, y, z: x * y * z\n",
        "x = float(input(\"Digite o primeiro número: \"))\n",
        "y = float(input(\"Digite o segundo número: \"))\n",
        "z = float(input(\"Digite o terceiro número: \"))\n",
        "print(\"Multiplicação dos três números: \", mult(x, y, z))"
      ],
      "execution_count": null,
      "outputs": []
    },
    {
      "cell_type": "code",
      "metadata": {
        "id": "1WUjCnNFqVkc"
      },
      "source": [
        "#b) Faça um programa que recebe as notas P1, P2 e T e exibe a média de acordo com as regras desta disciplina. \n",
        "#(você fará as regras)\n",
        "media = lambda p1, p2, t: (p1 * 2 + p2 * 2 + t) / 5\n",
        "p1 = float(input(\"Digite a nota da primeira prova: \")) \n",
        "p2 = float(input(\"Digite a nota da segunda prova: \"))\n",
        "t = float(input(\"Digite a nota do trabalho: \"))\n",
        "print(\"Média da disciplina: \", media(p1, p2, t))"
      ],
      "execution_count": null,
      "outputs": []
    },
    {
      "cell_type": "code",
      "metadata": {
        "id": "Cyx0IzBbq_0B"
      },
      "source": [
        "#c) Faça um programa que lê o salário atual de alguém e exibe o novo salário que é o atual com 25% de aumento.\n",
        "print(\"Novo salário: \", float(input(\"Digite o salário atual: \")) * 1.25)"
      ],
      "execution_count": null,
      "outputs": []
    },
    {
      "cell_type": "code",
      "metadata": {
        "id": "vQ8zIqT2rBe7"
      },
      "source": [
        "#d) Faça um programa que lê o salário base de alguém e exibe o novo salário, considerando 5% de gratificação (mais\n",
        "#dinheiro) e 7% de impostos (menos dinheiro) sobre o salário base. Também exiba a gratificação e o imposto.\n",
        "salario = float(input(\"Digite o salário base: \"))\n",
        "gratificacao = salario * 0.05\n",
        "impostos = salario * 1.05 * 0.07\n",
        "novo_salario = salario + gratificacao - impostos\n",
        "print(f'Novo salário: {novo_salario}\\nGratificação: {gratificacao}\\nImpostos: {impostos}')"
      ],
      "execution_count": null,
      "outputs": []
    },
    {
      "cell_type": "code",
      "metadata": {
        "id": "hrVSC_ghrFPw"
      },
      "source": [
        "#e) Faça um programa que exibe a área de um retângulo a partir da base e da altura fornecidas pelo usuário.\n",
        "print(\"Área do retângulo: \", float(input(\"Digite a base: \")) * float(input(\"Digite a altura: \")))"
      ],
      "execution_count": null,
      "outputs": []
    },
    {
      "cell_type": "code",
      "metadata": {
        "id": "GVotU7KBrHtQ"
      },
      "source": [
        "#f) Faça um programa que exibe a área de um triângulo a partir da base e da altura fornecidas pelo usuário.\n",
        "print(\"Área do triângulo: \", float(input(\"Digite a base: \")) * float(input(\"Digite a altura: \")) / 2)"
      ],
      "execution_count": null,
      "outputs": []
    },
    {
      "cell_type": "code",
      "metadata": {
        "id": "ssSZume9rJe0"
      },
      "source": [
        "#g) Faça um programa que exibe a área de um círculo a partir do perímetro fornecido pelo usuário.\n",
        "perimetro = float(input(\"Digite o perímetro: \"))\n",
        "print(\"Área do círculo: \", round((perimetro**2)/(4*3.14), 2))"
      ],
      "execution_count": null,
      "outputs": []
    },
    {
      "cell_type": "code",
      "metadata": {
        "id": "xI18bg3prLXq"
      },
      "source": [
        "#h) Faça um programa que exibe quantos litros de combustível são gastos por um carro em um dado percurso. Serão\n",
        "#fornecidos pelo usuário a distância percorrida (em km) e a quantidade de litros gastos por km.\n",
        "dist = float(input(\"Digite a distância percorrida: \"))\n",
        "qtd = float(input(\"Digite a quantidade de litros gastos por km: \"))\n",
        "print(\"Litros de combustivel gastos no percurso: \", dist * qtd)"
      ],
      "execution_count": null,
      "outputs": []
    },
    {
      "cell_type": "code",
      "metadata": {
        "id": "gEAO-cRcrO0j"
      },
      "source": [
        "#i) Faça um programa que, a partir da idade e o ano atual, calcule e exiba a idade que a pessoa teria na virada do próximo\n",
        "#século.\n",
        "idade = int(input(\"Digite a idade: \"))\n",
        "ano_atual = int(input(\"Digite o ano atual: \"))\n",
        "diferenca_seculo = (ano_atual // 100 + 1) * 100 - ano_atual\n",
        "print(\"Idade na virada do século:\", diferenca_seculo + idade + 1)"
      ],
      "execution_count": null,
      "outputs": []
    },
    {
      "cell_type": "code",
      "metadata": {
        "id": "K26iumKErSX4"
      },
      "source": [
        "#j) Faça um programa que recebe duas notas e exibe a média ponderada dessas notas, considerando peso dois para a\n",
        "#primeira e peso três para a segunda.\n",
        "print(\"Média ponderada: \", (float(input(\"Digite a primeira nota: \")) * 2 + float(input(\"Digite a segunda nota: \")) * 3) / 5)"
      ],
      "execution_count": null,
      "outputs": []
    },
    {
      "cell_type": "code",
      "metadata": {
        "id": "m6te2SCRrVIT"
      },
      "source": [
        "#k) Um funcionário recebe um salário fixo acrescido de 4% de comissão sobre suas vendas. Faça um programa que recebe o\n",
        "#salário fixo e a soma de tudo que ele vendeu, e mostre a comissão e o salário final do funcionário.\n",
        "salario_fixo = float(input(\"Digite o salário fixo: \"))\n",
        "soma = float(input(\"Digite a soma do valor das vendas: \"))\n",
        "comissao = soma * 0.04\n",
        "print(f'Comissao: {comissao}\\nSalário final: {salario_fixo + comissao}')"
      ],
      "execution_count": null,
      "outputs": []
    },
    {
      "cell_type": "code",
      "metadata": {
        "id": "uZC7Ih9XrXuC"
      },
      "source": [
        "#l) Faça um programa que recebe o ano de nascimento de uma pessoa e o ano atual, e exibe a idade dessa pessoa em anos.\n",
        "nasc = int(input(\"Digite o ano de nascimento: \"))\n",
        "atual = int(input(\"Digite o ano atual: \"))\n",
        "print(\"Idade:\", atual - nasc, \"anos\")"
      ],
      "execution_count": null,
      "outputs": []
    },
    {
      "cell_type": "markdown",
      "metadata": {
        "id": "yVBqznuxZpjq"
      },
      "source": [
        "# ETAPA 2 (A até Q)"
      ]
    },
    {
      "cell_type": "code",
      "metadata": {
        "id": "x58FQfuvD99n"
      },
      "source": [
        "#a) Faça um programa que recebe duas notas, exibe a média aritmética das notas e uma mensagem indicando se o aluno foi\n",
        "#aprovado ou reprovado. A média para aprovação deve ser maior que seis.\n",
        "media = (float(input(\"Digite a primeira nota: \")) + float(input(\"Digite a segunda nota: \"))) / 2\n",
        "print(\"Aprovado\" if media > 6 else \"Reprovado\")"
      ],
      "execution_count": null,
      "outputs": []
    },
    {
      "cell_type": "code",
      "metadata": {
        "id": "eeobNxyNEFku"
      },
      "source": [
        "#b) Tendo como entrada a altura e o sexo de uma pessoa, construa um programa que exibe o peso ideal para ela, em quilos.\n",
        "#Use as seguintes fórmulas (adote h como a altura e em metros):\n",
        "# • Homens: 72,7 ×h −58\n",
        "# • Mulheres: 62,1×h−44,7\n",
        "sexo = input(\"Digite o sexo (H para homem ou M para mulher): \").lower()\n",
        "h = float(input(\"Digite a altura (em metros): \"))\n",
        "if sexo == \"h\":\n",
        "  print(\"Peso ideal: \", round(72.7 * h - 58, 2), \"Kg\")\n",
        "else: \n",
        "  print(\"Peso ideal: \", round(62.1 * h - 44.7, 2), \"Kg\")"
      ],
      "execution_count": null,
      "outputs": []
    },
    {
      "cell_type": "code",
      "metadata": {
        "id": "c_PMN9uzENDu"
      },
      "source": [
        "#c) Faça um programa que recebe dois números inteiros distintos e exibe o maior.\n",
        "n1 = int(input(\"Digite o primeiro número: \"))\n",
        "n2 = int(input(\"Digite o segundo número: \"))\n",
        "print(\"Maior número: \", n1 if n1 > n2 else n2)"
      ],
      "execution_count": null,
      "outputs": []
    },
    {
      "cell_type": "code",
      "metadata": {
        "id": "EJNfFcldEO71"
      },
      "source": [
        "#d) Faça um programa que recebe dois números reais e exibe o menor deles e com duas casas decimais.\n",
        "n1 = float(input(\"Digite o primeiro número: \"))\n",
        "n2 = float(input(\"Digite o segundo número: \"))\n",
        "print(\"Menor número: \", round(n1, 2) if n1 < n2 else round(n2, 2))"
      ],
      "execution_count": null,
      "outputs": []
    },
    {
      "cell_type": "code",
      "metadata": {
        "id": "XzF5ccPcERNx"
      },
      "source": [
        "#e) Faça um programa que recebe um número inteiro e exibe uma mensagem indicando se ele é par ou ímpar (use o\n",
        "#operador % para obter o resto de uma divisão inteira).\n",
        "print(\"Par\" if int(input(\"Digite um número: \"))%2 == 0 else \"Ímpar\" )"
      ],
      "execution_count": null,
      "outputs": []
    },
    {
      "cell_type": "code",
      "metadata": {
        "id": "-Z2FnWTxET4j"
      },
      "source": [
        "#f) Faça um programa que recebe três números reais e os exibe em ordem crescente.\n",
        "a = []\n",
        "for i in range(3):\n",
        "  a.append(float(input(f'Digite o {i+1}º número: ')))\n",
        "for i in range(len(a) - 1):\n",
        "  for j in range(0, len(a)-1-i):\n",
        "    if a[j] > a[j+1]:\n",
        "      a[j], a[j+1] = a[j+1], a[j]\n",
        "print(a)"
      ],
      "execution_count": null,
      "outputs": []
    },
    {
      "cell_type": "code",
      "metadata": {
        "id": "4bgjkEroEWMF"
      },
      "source": [
        "#g) Faça um programa que mostre um menu com as opções \"adição\", \"subtração\", \"multiplicação\" e \"divisão\", recebe dois\n",
        "#valores reais, a operação escolhida pelo usuário e exibe o resultado da operação sobre os valores.\n",
        "def calc(n1, op, n2):\n",
        "  ops = {\n",
        "      \"+\": n1 + n2,\n",
        "      \"-\": n1 - n2,\n",
        "      \"*\": n1 * n2,\n",
        "      \"/\": n1 / n2\n",
        "  }\n",
        "  return ops.get(op)\n",
        "\n",
        "n1 = float(input(\"Digite o primeiro número: \"))\n",
        "op = input('''\n",
        "Digite o símbolo da operação desejada:\n",
        "- Adição (+)\n",
        "- Subtração (-)\n",
        "- Multiplicação (*)\n",
        "- Divisão (/)\n",
        "''')\n",
        "n2 = float(input(\"\\nDigite o segundo número: \"))\n",
        "try:\n",
        "  print(f'Resultado: {calc(n1, op, n2)}' if calc(n1, op, n2) else \"Digite uma operação válida\")\n",
        "except:\n",
        "  print(\"Não é possível realizar uma divisão por zero\")"
      ],
      "execution_count": null,
      "outputs": []
    },
    {
      "cell_type": "code",
      "metadata": {
        "id": "5ittaqnCEace"
      },
      "source": [
        "#h) Desenvolva um programa que recebe a base e a altura de três triângulos e exibe a maior área.\n",
        "a = []\n",
        "for i in range(3):\n",
        "  base = float(input(f'Digite a base do {i+1}º triângulo: '))\n",
        "  altura = float(input(f'Digite a altura do {i+1}º triângulo: '))\n",
        "  a.append(base*altura/2)\n",
        "for i in range(len(a) - 1):\n",
        "  for j in range(0, len(a)-1-i):\n",
        "    if a[j] > a[j+1]:\n",
        "      a[j], a[j+1] = a[j+1], a[j]\n",
        "print(\"Maior área: \", a[-1])"
      ],
      "execution_count": null,
      "outputs": []
    },
    {
      "cell_type": "code",
      "metadata": {
        "id": "aU_aF5ztEed4"
      },
      "source": [
        "#i) Faça um programa que recebe o valor de três arestas e exibe uma mensagem indicando se podem formar um triângulo.\n",
        "#Em caso afirmativo, indique se ele é equilátero, isósceles ou escaleno. Lembre-se: Para que um triângulo exista, a medida de\n",
        "#qualquer um dos lados deve ser menor que a soma das medidas dos outros dois.\n",
        "def isValid(a, b, c):\n",
        "  return (a < b + c) and (b < a + c) and (c < a + b)\n",
        "\n",
        "def checkType(a, b, c):\n",
        "  if a == b and b == c:\n",
        "    return \"Equilátero\"\n",
        "  elif a != b and a != c and b != c:\n",
        "    return \"Escaleno\"\n",
        "  else:\n",
        "    return \"Isósceles\"\n",
        "\n",
        "a = float(input(\"Digite o valor do primeiro lado: \"))\n",
        "b = float(input(\"Digite o valor do segundo lado: \"))\n",
        "c = float(input(\"Digite o valor do terceiro lado: \"))\n",
        "\n",
        "if not isValid(a, b, c):\n",
        "  print(\"Não é póssível formar um triângulo com esses valores\")\n",
        "else:\n",
        "  print(\"Triângulo\", checkType(a, b, c))"
      ],
      "execution_count": null,
      "outputs": []
    },
    {
      "cell_type": "code",
      "metadata": {
        "id": "r4JbFguMEhwj"
      },
      "source": [
        "#j) Faça um programa que recebe os coeficientes a,b e c (a ≠0) de uma equação de segundo grau e exibe os valores das\n",
        "#raízes, se forem reais, ou a mensagem \"nao existem raizes reais\", caso contrário.\n",
        "a = int(input(\"Digite o valor de 'a': \"))\n",
        "b = int(input(\"Digite o valor de 'b': \"))\n",
        "c = int(input(\"Digite o valor de 'c': \"))\n",
        "delta = b ** 2 - 4*a*c\n",
        "if delta < 0:\n",
        "  print(\"Não existem raizes reais\")\n",
        "elif delta == 0:\n",
        "  x = (-b + delta**(1/2))/(2*a)\n",
        "  print(\"Raíz da equação: \", round(x, 2))\n",
        "else:\n",
        "  x1 = (-b + delta**(1/2))/(2*a)\n",
        "  x2 = (-b - delta**(1/2))/(2*a)\n",
        "  print(f'Raízes da equação:\\nx1 = {round(x1, 2)}\\nx2 = {round(x2, 2)}')"
      ],
      "execution_count": null,
      "outputs": []
    },
    {
      "cell_type": "code",
      "metadata": {
        "id": "izaMOKwZEkmM"
      },
      "source": [
        "#k) Faça um programa que recebe duas datas distintas e exibe a mais recente. Cada data deve ser fornecida como três valores\n",
        "#inteiros, onde o primeiro representa o dia, o segundo o mês e o terceiro o ano. Dica: comece verificando pelo ano.\n",
        "try:\n",
        "  d1 = input(\"Digite a primeira data (dd/mm/aaaa): \")\n",
        "  a1 = d1.split(\"/\")\n",
        "  d2 = input(\"Digite a segunda data (dd/mm/aaaa): \")\n",
        "  a2 = d2.split(\"/\")\n",
        "  if len(a1) != len(a2) != 3:\n",
        "    raise Error \n",
        "  for i in range (3):\n",
        "    if a1[i-1] > a2[i-1]:\n",
        "      recente = d1\n",
        "      break\n",
        "    elif a1[i-1] < a2[i-1]:\n",
        "      recente = d2\n",
        "      break\n",
        "    else:\n",
        "      recente = d1\n",
        "  print(\"Data mais recente:\", recente)\n",
        "except:\n",
        "  print(\"Digite uma data válida\")"
      ],
      "execution_count": null,
      "outputs": []
    },
    {
      "cell_type": "code",
      "metadata": {
        "id": "-8xBXoRlEnBX"
      },
      "source": [
        "#l) Faça um programa que recebe o nome e a data de nascimento de duas pessoas e exibe o nome da mais velha. Cada data\n",
        "#deve ser fornecida em três valores inteiros, onde o primeiro representa o dia, o segundo o mês e o terceiro o ano.\n",
        "try:\n",
        "  n1 = input(\"Digite o primeiro nome: \")\n",
        "  a1 = input(f\"{n1}, digite sua data de nascimento (dd/mm/aaaa): \").split(\"/\")\n",
        "  n2 = input(\"Digite o seguindo nome: \")\n",
        "  a2 = input(f\"{n2}, digite sua data de nascimento (dd/mm/aaaa): \").split(\"/\")\n",
        "  if len(a1) != len(a2) != 3:\n",
        "    raise Error \n",
        "  for i in range (3):\n",
        "    if a1[i-1] > a2[i-1]:\n",
        "      mais_velha = n2\n",
        "      break\n",
        "    elif a1[i-1] < a2[i-1]:\n",
        "      mais_velha = n1\n",
        "      break\n",
        "    else:\n",
        "      mais_velha = \"nenhuma, ambas têm a mesma idade\"\n",
        "  print(\"Pessoa mais velha:\", mais_velha)\n",
        "except:\n",
        "  print(\"Digite uma data válida\")"
      ],
      "execution_count": null,
      "outputs": []
    },
    {
      "cell_type": "code",
      "metadata": {
        "id": "TvJOP06cEp-t"
      },
      "source": [
        "#m) Faça um programa que recebe a quantidade de cilindradas (cc) de um veículo de competição e exibe a categoria a qual\n",
        "#ele pertence, sendo:\n",
        "# • De 0cc a 120cc: “Sub Production”;\n",
        "# • De 121cc a 240cc: “Production”;\n",
        "# • Acima de 240cc: “Super Production”.\n",
        "cc = int(input(\"Digite a quantidade de cilindradas (cc): \"))\n",
        "if cc < 0:\n",
        "  print(\"Digite uma quantidade válida\")\n",
        "elif cc <= 120:\n",
        "  print(\"Categoria Sub Production\")\n",
        "elif cc <= 240:\n",
        "  print(\"Categoria Production\")\n",
        "else:\n",
        "  print(\"Categoria Super Production\")"
      ],
      "execution_count": null,
      "outputs": []
    },
    {
      "cell_type": "code",
      "metadata": {
        "id": "1FymDo9REt9D"
      },
      "source": [
        "#n) Faça um programa que recebe a idade de um nadador e exibe a categoria que ele pertence. Sendo o critério:\n",
        "# • Infantil (0 a 10 anos);\n",
        "# • Junior (11 a 14 anos);\n",
        "# • Adolescente (15 a 20 anos);\n",
        "# • Jovem (21 a 35 anos) e\n",
        "# • Máster (> 35 anos).\n",
        "idade = int(input(\"Digite a idade do nadador: \"))\n",
        "if idade < 0:\n",
        "  print(\"Digite uma idade válida\")\n",
        "elif idade <= 10:\n",
        "  print(\"Categoria Infantil\")\n",
        "elif idade <= 14:\n",
        "  print(\"Categoria Junior\")\n",
        "elif idade <= 20:\n",
        "  print(\"Categoria Adolescente\")\n",
        "elif idade <= 35:\n",
        "  print(\"Categoria Jovem\")\n",
        "else:\n",
        "  print(\"Categoria Máster\")"
      ],
      "execution_count": null,
      "outputs": []
    },
    {
      "cell_type": "code",
      "metadata": {
        "id": "rDMjO7ujEziL"
      },
      "source": [
        "#o) Desenvolva um programa que, com base em duas notas de provas e três notas de trabalhos dadas pelo usuário, exibe\n",
        "#uma mensagem indicando se o aluno foi aprovado, reprovado ou se fará o exame.\n",
        "# • 6 ≤ Média final ≤ 10,aprovado\n",
        "# • 4 ≤ Média final < 6,exame\n",
        "# • 0 ≤ Média final < 4,reprovado\n",
        "#Considere que Média final = (Provas + Trabalhos)/5\n",
        "def media(l):\n",
        "  return sum([int(i) for i in l if type(i)== int or i.isdigit()])/5\n",
        "\n",
        "try:\n",
        "  notas = input(\"Digite as notas (separando-as com espaço): \").split()\n",
        "  if len(notas) != 5 or all([i.isdigit() for i in notas]) == False:\n",
        "    raise Error\n",
        "  if media(notas) < 4:\n",
        "    print(\"Reprovado\")\n",
        "  elif media(notas) < 6:\n",
        "    print(\"Exame\")\n",
        "  else:\n",
        "    print(\"Aprovado\") \n",
        "except:\n",
        "  print(\"Digite as notas corretamente\")"
      ],
      "execution_count": null,
      "outputs": []
    },
    {
      "cell_type": "code",
      "metadata": {
        "id": "ikcZSOxkE2Q5"
      },
      "source": [
        "#p) Uma empresa decide presentear seus funcionários com um bônus de Natal. O valor é definido como segue:\n",
        "# • 20% do salário para os funcionários homens com mais de quinze anos de casa;\n",
        "# • 25% do salário para as funcionárias mulheres com mais de dez anos de casa;\n",
        "# • R$ 200,00 para os demais que não se encaixaram nas categorias anteriores.\n",
        "# Elabore um programa que recebe o sexo, o tempo de casa e o salário de um funcionário e exibe o valor total que o\n",
        "# funcionário receberá no Natal (salário + bônus).\n",
        "bonus = 200\n",
        "sexo = input(\"Digite seu sexo (M ou F): \").lower()\n",
        "tempo = int(input(\"Digite os anos de casa: \"))\n",
        "salario = float(input(\"Digite seu salário: \"))\n",
        "if sexo == \"m\" and tempo > 15:\n",
        "  bonus = salario * 0.2\n",
        "elif sexo == \"f\" and tempo > 10:\n",
        "  bonus = salario * 0.25\n",
        "print(\"Valor total:\", salario + bonus)"
      ],
      "execution_count": null,
      "outputs": []
    },
    {
      "cell_type": "code",
      "metadata": {
        "id": "WD9yLK4BFHlS"
      },
      "source": [
        "#q) Elabore um programa que lê as medidas de três cubos retangulares (base, altura e largura) e exibe a ordem que eles\n",
        "#devem ser colocados em um caminhão, obedecendo ao critério de que cubos com maior volume devem ser colocados\n",
        "#primeiro. Observe o exemplo a seguir:\n",
        "# • Cubo 1 – Base: 2 / Altura: 4 / Comprimento: 5;\n",
        "# • Cubo 2 – Base: 4 / Altura: 4 / Comprimento: 4;\n",
        "# • Cubo 3 – Base: 2 / Altura: 1 / Comprimento: 2.\n",
        "#Ordem da colocação: cubo 2, cubo 1 e cubo 3.\n",
        "def volume(l):\n",
        "  a = [int(i) for i in l if type(i)== int or i.isdigit()]\n",
        "  volume = 1\n",
        "  for i in a:\n",
        "    volume *= i\n",
        "  return volume\n",
        "\n",
        "cubos = {}\n",
        "for i in range(3):\n",
        "  cubo = input(f\"Digite a base, altura e largura do {i+1}º cubo (separados por espaço): \").split()\n",
        "  cubos[i+1] = volume(cubo)\n",
        "\n",
        "ordem = sorted(cubos.items(), key=lambda x: x[1], reverse=True)\n",
        "print(f\"Ordem de colocação: cubo {ordem[0][0]}, cubo {ordem[1][0]} e cubo {ordem[2][0]}\")"
      ],
      "execution_count": null,
      "outputs": []
    },
    {
      "cell_type": "markdown",
      "metadata": {
        "id": "fgIfyW5kZQ8d"
      },
      "source": [
        "# ETAPA 3 (A até AB)"
      ]
    },
    {
      "cell_type": "code",
      "metadata": {
        "id": "dan_I3iZbiK7"
      },
      "source": [
        "#a) Elabore um programa que lê um número inteiro n, seguido de n inteiros, e exibe a média dos n números lidos.\n",
        "try:\n",
        "  n = int(input(\"Digite um número: \"))\n",
        "  a = []\n",
        "  for i in range(n):\n",
        "    a.append(int(input(f\"Digite o {i+1}º número: \")))\n",
        "  print(\"Média: \", sum(a)/n)\n",
        "except:\n",
        "  print(\"Digite os números corretamente\")"
      ],
      "execution_count": null,
      "outputs": []
    },
    {
      "cell_type": "code",
      "metadata": {
        "id": "hbmau3VOblAq"
      },
      "source": [
        "#b) [while] Elabore um programa que recebe valores naturais até que seja digitado o valor zero. O programa deverá exibir\n",
        "#a média aritmética. Lembre-se: o valor zero apenas sinaliza o fim da entrada, não deve ser contabilizado.\n",
        "n = -1\n",
        "a = []\n",
        "try:\n",
        "  while n != 0:\n",
        "    num = int(input(f\"Digite um número (digite 0 para encerrar): \"))\n",
        "    if num == 0:\n",
        "      break\n",
        "    else:\n",
        "      a.append(num)\n",
        "  print(\"Média: \", sum(a)/len(a) if len(a) > 0 else 0)\n",
        "except:\n",
        "  print(\"Digite os números corretamente\")"
      ],
      "execution_count": null,
      "outputs": []
    },
    {
      "cell_type": "code",
      "metadata": {
        "id": "6aN12BrBsjvE"
      },
      "source": [
        "#c) Elabore um programa que exibe qual o número natural que mais se aproxima da raiz quadrada de um número natural\n",
        "#fornecido pelo usuário sem ultrapassá-lo. Use apenas as operações básicas (adição, subtração, multiplicação e divisão).\n",
        "#Exemplo: O número natural que mais se aproxima de √48, sem ultrapassar, é 6.\n",
        "\n",
        "sqrt = int(input(\"Digite um número: \")) ** (1/2)\n",
        "left = sqrt%2\n",
        "print(\"Raíz quadrada: \", sqrt - left if left < 1 else sqrt)\n",
        "\n",
        "#num = int(input(\"Digite um número: \"))\n",
        "#sqrt = 1 \n",
        "#for i in range(num//2):\n",
        "  #if sqrt * sqrt > num/2:\n",
        "    #break\n",
        "  #else:\n",
        "    #sqrt = i\n",
        "    #print(sqrt)\n",
        "  \n",
        "#print(sqrt)"
      ],
      "execution_count": null,
      "outputs": []
    },
    {
      "cell_type": "code",
      "metadata": {
        "id": "cEbgtipNsn4v"
      },
      "source": [
        "#d) Crie um programa que exibe uma lista de graus Fahrenheit (F) e os correspondentes em graus centígrados (C), variando\n",
        "#de 50 a 150, com passos de uma unidade. A fórmula de conversão é C=5÷9×(F−32).\n",
        "for i in range(50, 151):\n",
        "  print(f\"{i}ºF = {round((i - 32) * (5/9), 2)}ºC\")"
      ],
      "execution_count": null,
      "outputs": []
    },
    {
      "cell_type": "code",
      "metadata": {
        "id": "2bt6c9Dlsqk8"
      },
      "source": [
        "#e) [for] Desenvolva um programa que exibe a tabuada de um número natural escolhido pelo usuário. Os múltiplos\n",
        "#apresentados devem ser de 1 a 10.\n",
        "num = int(input(\"Digite um número natural: \"))\n",
        "for i in range(1, 11):\n",
        "  print(f\"{num} X {i} = {num*i}\")"
      ],
      "execution_count": null,
      "outputs": []
    },
    {
      "cell_type": "code",
      "metadata": {
        "id": "c24AxynFssqO"
      },
      "source": [
        "#f) Faça um programa que lê as temperaturas máximas de cada um dos 365 dias do ano e exibe a temperatura média anual.\n",
        "import random\n",
        "temps = [random.randint(13,36) for i in range(365)]\n",
        "print(f\"Temperatura média anual: {round(sum(temps)/365, 0)}\")"
      ],
      "execution_count": null,
      "outputs": []
    },
    {
      "cell_type": "code",
      "metadata": {
        "id": "Xde2myzpsuca"
      },
      "source": [
        "#g) [for] Faça um programa que lê um número natural e exibe o fatorial desse número. Lembre-se: 5! é 120, porque 5 × 4\n",
        "#× 3 × 2 × 1 = 120. Use um acumulador e um contador dentro de um laço de repetição.\n",
        "num = int(input(\"Digite um número natural: \"))\n",
        "fact = 1\n",
        "for i in range(1, num+1):\n",
        "  fact *= i\n",
        "print(f\"{num}! = {fact}\")"
      ],
      "execution_count": null,
      "outputs": []
    },
    {
      "cell_type": "code",
      "metadata": {
        "id": "hG0-Da_gsxOx"
      },
      "source": [
        "#h) Faça um programa que recebe um número inteiro e exibe o fatorial desse número. Se não for possível calculá-lo o\n",
        "#programa deve exibir uma mensagem com o motivo.\n",
        "try:\n",
        "  num = int(input(\"Digite um número inteiro: \"))\n",
        "  fact = 1\n",
        "  for i in range(1, abs(num)+1):\n",
        "    fact *= i\n",
        "  print(f\"{num}! =\", fact if num >= 0 else fact * -1)\n",
        "except:\n",
        "  print(\"Digite um inteiro válido\")"
      ],
      "execution_count": null,
      "outputs": []
    },
    {
      "cell_type": "code",
      "metadata": {
        "id": "zj0cxA-Ss0Qh"
      },
      "source": [
        "#i) [for] Faça um programa que exibe nm considerando n (real) e m (natural) dados pelo usuário. Não usar funções prontas\n",
        "#da linguagem para o cálculo de potência.\n",
        "n = float(input(\"Digite o número 'n': \"))\n",
        "m = int(input(\"Digite o número 'm': \"))\n",
        "pot =  n**m \n",
        "print(f\"{n}^{m} = {pot}\")"
      ],
      "execution_count": null,
      "outputs": []
    },
    {
      "cell_type": "code",
      "metadata": {
        "id": "ibQOoXv4s3fV"
      },
      "source": [
        "#j) [for] Faça um programa que lê cem idades de pacientes e exibe as idades do mais novo e do mais velho.\n",
        "import random\n",
        "pacientes = [random.randint(1,105) for _ in range(100)]\n",
        "pacientes.sort()\n",
        "print(f\"Idade do paciente mais novo: {pacientes[0]}\\nIdade do paciente mais velho: {pacientes[-1]}\")"
      ],
      "execution_count": null,
      "outputs": []
    },
    {
      "cell_type": "code",
      "metadata": {
        "id": "Lh72lpVRs57S"
      },
      "source": [
        "#k) Faça um programa que lê os valores do saldo diário de um cliente durante um mês (trinta dias) e, ao final, exibe o\n",
        "#menor e o maior saldo que o cliente teve durante esse período. "
      ],
      "execution_count": null,
      "outputs": []
    },
    {
      "cell_type": "code",
      "metadata": {
        "id": "cuUiGbHQs8hH"
      },
      "source": [
        "#l) Faça um programa que recebe um número natural e exibe a soma de todos os valores de zero até o número digitado.\n",
        "#Exemplo: se receber o valor 5, deve exibir 15 (0 + 1 + 2 + 3 + 4 + 5).\n",
        "num = int(input(\"Digite um número natural: \"))\n",
        "soma = 0\n",
        "for i in range(num+1):\n",
        "  soma += i\n",
        "print(soma)"
      ],
      "execution_count": null,
      "outputs": []
    },
    {
      "cell_type": "code",
      "metadata": {
        "id": "cTEEVdZms-_j"
      },
      "source": [
        "#m) Desenvolva um programa que lê cinquenta valores e exibe o maior, o menor e a média dos valores lidos.\n",
        "import random\n",
        "nums = [random.randint(1,1000) for i in range(50)]\n",
        "nums.sort()\n",
        "average = round(sum(nums)/50)\n",
        "print(f\"Maior: {nums[-1]}\\nMenor: {nums[0]}\\nMédia: {average}\") "
      ],
      "execution_count": null,
      "outputs": []
    },
    {
      "cell_type": "code",
      "metadata": {
        "id": "QzNxeGsEtBX2"
      },
      "source": [
        "#n) [for] Sendo H=11+12+13+14+15+ ⋯+1n faça um programa que exibe o valor de H após ler n (n>0).\n",
        "num = input(\"Digite o valor de n: \")\n",
        "final = int(f\"1{num}\")\n",
        "soma = 0\n",
        "if int(num) > 0:\n",
        "  for i in range(11, final+1):\n",
        "    soma += i\n",
        "print(soma) "
      ],
      "execution_count": null,
      "outputs": []
    },
    {
      "cell_type": "code",
      "metadata": {
        "id": "Ir7a2BuDtE5O"
      },
      "source": [
        "#o) [while] Faça um programa que recebe valores inteiros positivos até que seja digitado o valor zero. O programa deverá\n",
        "#exibir o maior valor digitado.\n",
        "maior = -1\n",
        "while True:\n",
        "  num = int(input(\"Digite um número inteiro positivo: \"))\n",
        "  if num == 0:\n",
        "    break\n",
        "  elif num > maior:\n",
        "    maior = num\n",
        "print(\"Maior valor digitado:\", maior)"
      ],
      "execution_count": null,
      "outputs": []
    },
    {
      "cell_type": "code",
      "metadata": {
        "id": "X1_2uXLvtH2N"
      },
      "source": [
        "#p) Faça um programa que lê o saldo de uma conta corrente e as movimentações feitas nela (valores positivos e negativos).\n",
        "#Quando uma movimentação com valor zero for inserida, o programa deverá exibir o saldo final.\n",
        "saldo = 0\n",
        "while True:\n",
        "  mov = int(input(\"Digite a movimentação: \"))\n",
        "  if mov == 0:\n",
        "    break\n",
        "  saldo += mov\n",
        "print(\"Saldo final:\", saldo)"
      ],
      "execution_count": null,
      "outputs": []
    },
    {
      "cell_type": "code",
      "metadata": {
        "id": "gs00EL1CtLN6"
      },
      "source": [
        "#q) Uma rainha requisitou os serviços de um monge e afirmou que pagaria qualquer preço. O monge perguntou se o\n",
        "#pagamento poderia ser grãos de trigo dispostos em um tabuleiro de xadrez, de tal forma que o primeiro quadro teria\n",
        "#apenas um grão e os subsequentes o dobro do quadro anterior. Achando barato, a rainha concordou, mas o pagamento\n",
        "#era impossível. Faça um programa que exiba o número de grãos que o monge esperava receber, sabendo que um\n",
        "#tabuleiro de xadrez possui 64 quadros.\n",
        "quadro = 1\n",
        "pag = 1\n",
        "for _ in range(2, 65):\n",
        "  quadro *= 2\n",
        "  pag += quadro\n",
        "print(\"Pagamento:\", pag, \"grãos\")"
      ],
      "execution_count": null,
      "outputs": []
    },
    {
      "cell_type": "code",
      "metadata": {
        "id": "FJxhw5pstydZ"
      },
      "source": [
        "#r) Fulano tem 160cm de altura e cresce 2 centímetros por ano, enquanto Ciclano tem 110cm de altura e cresce 3\n",
        "#centímetros por ano. Faça um programa que exibe em quantos anos Ciclano superará a altura de Fulano.\n",
        "af = 160\n",
        "ac = 110\n",
        "anos = 0\n",
        "while ac <= af:\n",
        "  af += 2\n",
        "  ac += 3\n",
        "  anos += 1\n",
        "print(\"Ciclano superará a altura de Fulano em\", anos, \"anos\")"
      ],
      "execution_count": null,
      "outputs": []
    },
    {
      "cell_type": "code",
      "metadata": {
        "id": "wpfZ853Lt0-u"
      },
      "source": [
        "#s) Faça um programa que recebe a nota de oitenta alunos exibe a maior nota lida.\n",
        "import random\n",
        "alunos = [round(random.randint(0,9)+random.uniform(0, 1), 1) for i in range(80)]\n",
        "alunos.sort()\n",
        "print(\"Maior nota:\", alunos[-1])"
      ],
      "execution_count": null,
      "outputs": []
    },
    {
      "cell_type": "code",
      "metadata": {
        "id": "RaMYfjppt25X"
      },
      "source": [
        "#t) Faça um programa que lê a altura (em metros) e o sexo ('m' ou 'f') e exibe a maior altura masculina e feminina\n",
        "#lidas. Encerrar a leitura quando o valor zero for inserido como altura.\n",
        "h_masc = -1\n",
        "h_fem = -1\n",
        "while True:\n",
        "  h = float(input(\"Digite a altura em metros (digite 0 para encerrar): \"))\n",
        "  if h == 0:\n",
        "    break\n",
        "  sexo = input(\"Digite o sexo ('m' ou 'f'): \")\n",
        "  if sexo == \"m\" and h > h_masc:\n",
        "    h_masc = h\n",
        "  elif sexo == \"f\" and h > h_fem:\n",
        "    h_fem = h\n",
        "if h_masc != -1:\n",
        "  print(\"Maior altura masculina:\", h_masc, \"m\")\n",
        "if h_fem != -1:\n",
        "  print(\"Maior altura feminina:\", h_fem, \"m\")"
      ],
      "execution_count": null,
      "outputs": []
    },
    {
      "cell_type": "code",
      "metadata": {
        "id": "Cru0qZ5Rt51n"
      },
      "source": [
        "#u) A Sequência de Fibonacci é caracterizada por cada termo ser a soma dos dois imediatamente anteriores, sendo que os\n",
        "#dois primeiros termos têm valor igual a 1, conforme a seguir: 1, 1, 2, 3, 5, 8, 13, 21, 34, 55 etc. Faça um programa que\n",
        "#recebe a quantidade de termos desejados e os exibe. Por exemplo, caso a entrada seja 7, o programa deverá exibir os\n",
        "#números 1, 1, 2, 3, 5, 8 e 13.\n",
        "def fib(i):\n",
        "  seq = [1]\n",
        "  fib_number = 0\n",
        "  seq_size = len(seq)\n",
        "  for _ in range(seq_size, i):\n",
        "    fib_number = sum(seq[-2:])\n",
        "    seq.append(fib_number)\n",
        "  return seq\n",
        "\n",
        "print(\"Sequência de Fibonacci:\", fib(int(input(\"Digite um número natural: \"))))"
      ],
      "execution_count": null,
      "outputs": []
    },
    {
      "cell_type": "code",
      "metadata": {
        "id": "AcETuiGvuSu6"
      },
      "source": [
        "#v) Qual a diferença entre as estruturas de repetição for, while e do...while, em relação ao momento onde o teste\n",
        "#lógico e as eventuais instruções embutidas na própria estrutura são feitos.\n",
        "\n",
        "#A estrutura de repetição \"for\" utiliza algum item iterável pré-determinado como parametro para o loop. \n",
        "#O \"while\" é realizado enquanto a condição é verdadeira.\n",
        "#O \"do...while\", similar ao \"while\", ainda precisa ser verdadeiro para que o loop aconteça, a diferença é que o bloco de código no \"do\" será\n",
        "#executado no mínimo uma vez mesmo não satisfazendo as condições do \"while\"."
      ],
      "execution_count": null,
      "outputs": []
    },
    {
      "cell_type": "code",
      "metadata": {
        "id": "VvJ5LeC7uVba"
      },
      "source": [
        "#w) [while] Uma empresa está fazendo uma pesquisa, ligando para telespectadores e perguntando qual canal de\n",
        "#televisão (4, 5 ou 9) eles estão assistindo. A cada ligação a resposta é registrada em um software e, no final do dia,\n",
        "#os canais com seus respectivos votos são exibidos em ordem decrescente. Construa esse software. \n",
        "#Obs.: considere que não haverá empate.\n",
        "import random\n",
        "\n",
        "pesquisa = {\n",
        "    4: 0,\n",
        "    5: 0,\n",
        "    9: 0\n",
        "}\n",
        "votacao = [4, 5, 9]\n",
        "for _ in range(100):\n",
        "  voto = votacao[random.randint(0,2)]\n",
        "  pesquisa[voto] += 1\n",
        "pesquisa_sorted = sorted(pesquisa.items(), key=lambda x: x[1])\n",
        "for i in range(3):\n",
        "  print(f\"Canal {pesquisa_sorted[i][0]}: {pesquisa_sorted[i][1]} votos\")"
      ],
      "execution_count": null,
      "outputs": []
    },
    {
      "cell_type": "code",
      "metadata": {
        "id": "8yj4PDqiuYoy"
      },
      "source": [
        "#x) Indique o que será mostrado na tela a partir do trecho do programa abaixo:\n",
        "tot1 = 0\n",
        "tot2 = 0\n",
        "x = 3\n",
        "y = 7\n",
        "for i in range(3):\n",
        "  for j in range(x + i,y,1):\n",
        "    tot1 = tot1 + i + x\n",
        "    print(tot1)\n",
        "  tot2 = tot2 + tot1\n",
        "  tot1 = 0\n",
        "print(tot2)"
      ],
      "execution_count": null,
      "outputs": []
    },
    {
      "cell_type": "code",
      "metadata": {
        "id": "jXDDid2Euokg"
      },
      "source": [
        "#y) [while] Certa pessoa (A) possui R$ 10.000,00 e tem sua fortuna crescendo em R$ 100,00 por mês. Outra pessoa (B)\n",
        "#tem sua fortuna crescendo em R$ 300,00 ao mês e possui R$ 5.000,00. Faça um programa que exibe, mês a mês, a\n",
        "#diferença das duas fortunas até que a pessoa (B) tenha mais dinheiro do que a pessoa (A).\n",
        "a = 10000.00\n",
        "b = 5000.00\n",
        "meses = 0\n",
        "while b <= a:\n",
        "  a += 100.00\n",
        "  b += 300.00\n",
        "  meses += 1\n",
        "  print(f\"{meses}º mês: A = R${a} e B = R${b}, diferença de R${abs(a - b)}\")"
      ],
      "execution_count": null,
      "outputs": []
    },
    {
      "cell_type": "code",
      "metadata": {
        "id": "yi9jWMAPuqRg"
      },
      "source": [
        "#z) Um funcionário de uma empresa recebe bonificação salarial anualmente. Sabe-se que ele foi contratado em 2000 com\n",
        "#salário de R$ 1.000,00. Em 2001 recebeu bonificação de 0,5% sobre o salário inicial e ano a ano passou a receber\n",
        "#porcentagem em dobro do ano anterior, sempre em relação ao salarial inicial. Faça um programa que mostre ano a ano o\n",
        "#salário do funcionário, desde que foi admitido até 2017.\n",
        "salario = 1000.0\n",
        "bonificacao = 0.005\n",
        "ano = 2000\n",
        "while ano <= 2017:\n",
        "  if ano == 2000:\n",
        "    print(f\"{ano}: R$ {salario}\")\n",
        "  else:\n",
        "    salario_ano = salario * (1 + bonificacao)\n",
        "    print(f\"{ano}: R$ {round(salario_ano, 2)}\")\n",
        "    bonificacao *= 2\n",
        "  ano += 1"
      ],
      "execution_count": null,
      "outputs": []
    },
    {
      "cell_type": "code",
      "metadata": {
        "id": "NLLUgEdnutw8"
      },
      "source": [
        "#aa) [while] Um professor precisa saber qual a média das notas de uma sala e pediu sua ajuda para construir um\n",
        "#programa que permita inserir as notas finais de cada aluno e, ao final, exibir a média da sala. Lembre-se que as notas\n",
        "#variam de 0 a 10 e o professor digitará -1 quando quiser encerrar as entradas.\n",
        "notas = 0\n",
        "alunos = 0\n",
        "while True:\n",
        "  try: \n",
        "    nota = int(input(\"Digite a nota (-1 para encerrar): \"))\n",
        "    if nota == -1:\n",
        "      break\n",
        "    elif nota < 0 or nota > 10:\n",
        "      raise Exception\n",
        "    notas += nota\n",
        "    alunos += 1\n",
        "  except:\n",
        "    print(\"Digite uma nota válida!\")\n",
        "print(\"Média:\", round(notas/alunos, 1))"
      ],
      "execution_count": null,
      "outputs": []
    },
    {
      "cell_type": "code",
      "metadata": {
        "id": "MbpE0CNruwt_"
      },
      "source": [
        "#ab) Faça um programa que receba um conjunto de valores inteiros de volts que passam por um determinado fio, que é\n",
        "#medido de tempos em tempos, e exiba a média aritmética. Considere o final da entrada de dados quando o valor zero foi\n",
        "#digitado. Lembre-se: o valor zero não deve ser computado.\n",
        "soma_volts = 0\n",
        "num_medicoes = 0\n",
        "while True:\n",
        "  try: \n",
        "    medicao = int(input(\"Digite o valor da medição (0 para encerrar): \"))\n",
        "    if medicao == 0:\n",
        "      break\n",
        "    elif medicao < 0:\n",
        "      raise Exception\n",
        "    soma_volts += medicao\n",
        "    num_medicoes += 1\n",
        "  except:\n",
        "    print(\"Digite um valor válido!\")\n",
        "print(\"Média:\", round(soma_volts/num_medicoes, 1))"
      ],
      "execution_count": null,
      "outputs": []
    }
  ]
}